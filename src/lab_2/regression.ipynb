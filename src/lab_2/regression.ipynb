{
 "cells": [
  {
   "cell_type": "markdown",
   "metadata": {},
   "source": [
    "## 1. Data preprocessing (lab 1)"
   ]
  },
  {
   "cell_type": "markdown",
   "metadata": {},
   "source": [
    "### Fetch data"
   ]
  },
  {
   "cell_type": "code",
   "execution_count": 35,
   "metadata": {},
   "outputs": [],
   "source": [
    "from ucimlrepo import fetch_ucirepo\n",
    "\n",
    "heart_disease = fetch_ucirepo(id=45)"
   ]
  },
  {
   "cell_type": "markdown",
   "metadata": {},
   "source": [
    "### Create a feature matrix"
   ]
  },
  {
   "cell_type": "code",
   "execution_count": 36,
   "metadata": {},
   "outputs": [],
   "source": [
    "import pandas as pd\n",
    "from sklearn.impute import SimpleImputer\n",
    "from sklearn.preprocessing import MinMaxScaler, OneHotEncoder\n",
    "\n",
    "cat_features = [\"sex\", \"cp\", \"fbs\", \"restecg\", \"exang\", \"slope\", \"ca\", \"thal\"]\n",
    "num_features = [\"age\", \"trestbps\", \"chol\", \"thalach\", \"oldpeak\"]\n",
    "\n",
    "original_df = heart_disease.data.features\n",
    "\n",
    "# Prepare categorical data\n",
    "imputer = SimpleImputer(strategy=\"most_frequent\")\n",
    "original_df.loc[:, cat_features] = imputer.fit_transform(original_df[cat_features])\n",
    "\n",
    "encoder = OneHotEncoder(categories=\"auto\", sparse_output=False)\n",
    "encoded_cat_data = encoder.fit_transform(original_df[cat_features])\n",
    "encoded_features = encoder.get_feature_names_out(cat_features)\n",
    "original_df[encoded_features] = pd.DataFrame(encoded_cat_data, columns=encoded_features)\n",
    "\n",
    "# Prepare numerical data\n",
    "scaler = MinMaxScaler()\n",
    "scaled_num_data = scaler.fit_transform(original_df[num_features])\n",
    "original_df[num_features] = pd.DataFrame(scaled_num_data, columns=num_features)\n",
    "\n",
    "# Convert DataFrame to feature matrix\n",
    "original_df = original_df.drop(columns=cat_features)\n",
    "X = original_df.to_numpy()"
   ]
  },
  {
   "cell_type": "markdown",
   "metadata": {},
   "source": [
    "### Create a target vector (convert values to {0,1} for binary classification)"
   ]
  },
  {
   "cell_type": "code",
   "execution_count": 37,
   "metadata": {},
   "outputs": [],
   "source": [
    "import numpy as np\n",
    "\n",
    "y = heart_disease.data.targets.to_numpy()\n",
    "y_binary = np.where(y >= 1, 1, 0)"
   ]
  },
  {
   "cell_type": "markdown",
   "metadata": {},
   "source": [
    "### Verify matrix/vector dimensions"
   ]
  },
  {
   "cell_type": "code",
   "execution_count": 38,
   "metadata": {},
   "outputs": [
    {
     "name": "stdout",
     "output_type": "stream",
     "text": [
      "Feature matrix shape: (303, 28)\n",
      "Target vector shape: (303, 1)\n"
     ]
    }
   ],
   "source": [
    "print(f\"Feature matrix shape: {X.shape}\")\n",
    "print(f\"Target vector shape: {y_binary.shape}\")"
   ]
  },
  {
   "cell_type": "markdown",
   "metadata": {},
   "source": [
    "### Split dataset to test and train subsets"
   ]
  },
  {
   "cell_type": "code",
   "execution_count": 39,
   "metadata": {},
   "outputs": [],
   "source": [
    "from sklearn.model_selection import train_test_split\n",
    "\n",
    "X_train, X_test, y_train, y_test = train_test_split(X, y_binary, test_size=0.2, random_state=42)"
   ]
  },
  {
   "cell_type": "code",
   "execution_count": 40,
   "metadata": {},
   "outputs": [
    {
     "name": "stdout",
     "output_type": "stream",
     "text": [
      "X_train shape: (242, 28)\n",
      "X_test shape: (61, 28)\n",
      "y_train shape: (242, 1)\n",
      "y_test shape: (61, 1)\n"
     ]
    }
   ],
   "source": [
    "print(f\"X_train shape: {X_train.shape}\")\n",
    "print(f\"X_test shape: {X_test.shape}\")\n",
    "print(f\"y_train shape: {y_train.shape}\")\n",
    "print(f\"y_test shape: {y_test.shape}\")"
   ]
  },
  {
   "cell_type": "markdown",
   "metadata": {},
   "source": [
    "## 2. Model"
   ]
  },
  {
   "cell_type": "markdown",
   "metadata": {},
   "source": [
    "### Hiperparameters"
   ]
  },
  {
   "cell_type": "code",
   "execution_count": 41,
   "metadata": {},
   "outputs": [],
   "source": [
    "ALPHA = 0.0001\n",
    "EPOCH_LIMIT = 250\n",
    "EPSILON = 0.0001\n",
    "TRESHOLD = 0.5"
   ]
  },
  {
   "cell_type": "markdown",
   "metadata": {},
   "source": [
    "### Functions"
   ]
  },
  {
   "cell_type": "markdown",
   "metadata": {},
   "source": [
    "- $\\sigma(x) = \\frac{1}{1 + e^{-x}}$  \n",
    "- $sigmoid(X=[x_{1}, x_{2}, ..., x_{n}]) = [\\sigma(x_{1}), \\sigma(x_{2}), ..., \\sigma(x_{n})]$  \n",
    "\n",
    "##### Let:  \n",
    "$X_{i \\times j}$=\n",
    "$\\begin{bmatrix}\n",
    "    x_{11} & x_{12} & x_{13} & \\dots  & x_{1j} \\\\\n",
    "    x_{21} & x_{22} & x_{23} & \\dots  & x_{2j} \\\\\n",
    "    \\vdots & \\vdots & \\vdots & \\ddots & \\vdots \\\\\n",
    "    x_{i1} & x_{i2} & x_{i3} & \\dots  & x_{ij}\n",
    "\\end{bmatrix}$, \n",
    "$W_{1 \\times j}$=\n",
    "$\\begin{bmatrix}\n",
    "    w_{1} & w_{2} & w_{3} & \\dots  & w_{j}\n",
    "\\end{bmatrix}$,\n",
    "$b_{1 \\times 1}$=\n",
    "$\\begin{bmatrix}\n",
    "    bias\n",
    "\\end{bmatrix}$,  \n",
    "\n",
    "##### Then:\n",
    "- $pred\\_prob(X_{i \\times j}, W_{1 \\times j}, b_{1 \\times 1}) = sigmoid(((XW^{T})_{i \\times 1} + b\\_ext_{i \\times 1})_{i \\times 1})$  \n",
    "- $update\\_weights(X_{i \\times j}, W_{1 \\times j}, p_{i \\times 1}, y_{i \\times 1}) = W_{1 \\times j} + \\alpha * (((y_{i \\times 1} - p_{i \\times 1})^{T})_{1 \\times i}X_{i \\times j})_{1 \\times j}$"
   ]
  },
  {
   "cell_type": "code",
   "execution_count": 42,
   "metadata": {},
   "outputs": [],
   "source": [
    "def sigmoid(vector: np.array) -> np.array:\n",
    "    return 1 / (1 + np.exp(-vector))\n",
    "\n",
    "\n",
    "def pred_prob(X: np.array, W: np.array, b: np.array) -> np.array:\n",
    "    vector = (X @ W) + b\n",
    "    return sigmoid(vector)\n",
    "\n",
    "\n",
    "def update_weights(X: np.array, W: np.array, p: np.array, y: np.array) -> np.array:\n",
    "    gradient = (y-p).T @ X\n",
    "    return (W + (ALPHA * gradient).T)\n",
    "\n",
    "\n",
    "def update_bias(b: np.array, p: np.array, y: np.array) -> np.array:\n",
    "    gradient = np.sum(y - p)\n",
    "    return b + (ALPHA * gradient)"
   ]
  },
  {
   "cell_type": "markdown",
   "metadata": {},
   "source": [
    "### Model training"
   ]
  },
  {
   "cell_type": "code",
   "execution_count": 43,
   "metadata": {},
   "outputs": [],
   "source": [
    "from sklearn.metrics import accuracy_score, f1_score, recall_score\n",
    "\n",
    "\n",
    "def run(X_train: np.array, X_test: np.array, y_train: np.array,\n",
    "        y_test: np.array, epoch_limit: int) -> dict[int, dict[str, np.float64]]:\n",
    "    results = {}\n",
    "\n",
    "    features_count = X_train.shape[1]\n",
    "    W = np.zeros((features_count, 1))\n",
    "    # W = (np.random.randn(features_count, 1) * 0.01)\n",
    "    b = np.zeros((1,1))\n",
    "\n",
    "    for i in range(epoch_limit):\n",
    "        p = pred_prob(X_train, W, b)\n",
    "        W_updated = update_weights(X_train, W, p, y_train)\n",
    "        b = update_bias(b, p, y_train)\n",
    "        test_p = pred_prob(X_test, W, b)\n",
    "        test_p_binary = (test_p >= TRESHOLD).astype(int)\n",
    "        results[i] = {\n",
    "            \"recall\": recall_score(y_true=y_test, y_pred=test_p_binary),\n",
    "            \"f1\": f1_score(y_true=y_test, y_pred=test_p_binary),\n",
    "            \"accuracy\": accuracy_score(y_true=y_test, y_pred=test_p_binary)\n",
    "        }\n",
    "        if (np.abs(W_updated - W) <= EPSILON).all():\n",
    "            return results\n",
    "        W = W_updated\n",
    "    return results"
   ]
  },
  {
   "cell_type": "markdown",
   "metadata": {},
   "source": [
    "### Run the model and plot the metrics"
   ]
  },
  {
   "cell_type": "code",
   "execution_count": 44,
   "metadata": {},
   "outputs": [],
   "source": [
    "import matplotlib.pyplot as plt\n",
    "\n",
    "\n",
    "def plot_results(results: dict[int, np.float64]):\n",
    "    x = list(results.keys())\n",
    "    recall = [results[i]['recall'] for i in x]\n",
    "    f1 = [results[i]['f1'] for i in x]\n",
    "    accuracy = [results[i]['accuracy'] for i in x]\n",
    "\n",
    "    plt.figure(figsize=(8, 6))\n",
    "    plt.plot(x, recall, linestyle='-', color='r', label='Recall')\n",
    "    plt.plot(x, f1, linestyle='-', color='g', label='F1 Score')\n",
    "    plt.plot(x, accuracy, linestyle='-', color='b', label='Accuracy')\n",
    "\n",
    "    plt.xlabel('Epoch')\n",
    "    plt.ylabel('Metric score')\n",
    "    plt.title('Plot of metric scores')\n",
    "\n",
    "    plt.xlim(0, 150)\n",
    "\n",
    "    plt.legend()\n",
    "\n",
    "    plt.grid(True)\n",
    "    plt.show()"
   ]
  },
  {
   "cell_type": "code",
   "execution_count": 45,
   "metadata": {},
   "outputs": [
    {
     "data": {
      "image/png": "[encoded data removed]",
      "text/plain": [
       "<Figure size 800x600 with 1 Axes>"
      ]
     },
     "metadata": {},
     "output_type": "display_data"
    }
   ],
   "source": [
    "results = run(X_train, X_test, y_train, y_test, EPOCH_LIMIT)\n",
    "plot_results(results)"
   ]
  },
  {
   "cell_type": "markdown",
   "metadata": {},
   "source": [
    "## 3. Summary"
   ]
  },
  {
   "cell_type": "markdown",
   "metadata": {},
   "source": [
    "**Observations:**\n",
    "1. The above chart shows the performance metrics of a logistic regression model that was trained on medical data for the prediction of heart disease.\n",
    "\n",
    "2. The model uses 28 features (preprocessed on the previous lab class) to predict a binary target - presence or absence of heart disease. Three metrics were used to visualise the performance of the model over time (time = epochs): Recall, F1 score, and Accuracy.\n",
    "\n",
    "3. All three metrics started close to 0 but soon reached at least 0.5 after +/- 20 epochs. The overall trajectory implies that the performance of the model improves with more iterations (epochs).\n",
    "\n",
    "4. Accuracy (blue line) shows the most stable performance, reaching about 0.85 by the end of training, while Recall (red line) \"struggled\" much more to improve its value, but finally finished with a value greater than 0.8.\n",
    "\n",
    "5. All metrics seem to plateau after about 85 epochs, suggesting that further training is probably pointless.\n",
    "\n",
    "**Conclusion**  \n",
    "Based on the presented picture, we can conclude that this logistic regression model is quite effective in predicting heart disease from the given medical data. The recall metric is perhaps the most important as it describes the model's ability to identify positive cases. However, the overall accuracy is also high. We can assume that for such a simple task (binary classification) this type of model could be considered adequate."
   ]
  }
 ],
 "metadata": {
  "kernelspec": {
   "display_name": ".venv",
   "language": "python",
   "name": "python3"
  },
  "language_info": {
   "codemirror_mode": {
    "name": "ipython",
    "version": 3
   },
   "file_extension": ".py",
   "mimetype": "text/x-python",
   "name": "python",
   "nbconvert_exporter": "python",
   "pygments_lexer": "ipython3",
   "version": "3.12.3"
  }
 },
 "nbformat": 4,
 "nbformat_minor": 2
}
