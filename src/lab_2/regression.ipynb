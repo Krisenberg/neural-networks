{
 "cells": [
  {
   "cell_type": "markdown",
   "metadata": {},
   "source": [
    "## 1. Data preprocessing (lab 1)"
   ]
  },
  {
   "cell_type": "markdown",
   "metadata": {},
   "source": [
    "### Fetch data"
   ]
  },
  {
   "cell_type": "code",
   "execution_count": 136,
   "metadata": {},
   "outputs": [],
   "source": [
    "from ucimlrepo import fetch_ucirepo\n",
    "\n",
    "heart_disease = fetch_ucirepo(id=45)"
   ]
  },
  {
   "cell_type": "markdown",
   "metadata": {},
   "source": [
    "### Create a feature matrix"
   ]
  },
  {
   "cell_type": "code",
   "execution_count": 137,
   "metadata": {},
   "outputs": [],
   "source": [
    "import pandas as pd\n",
    "from sklearn.impute import SimpleImputer\n",
    "from sklearn.preprocessing import MinMaxScaler, OneHotEncoder\n",
    "\n",
    "cat_features = [\"sex\", \"cp\", \"fbs\", \"restecg\", \"exang\", \"slope\", \"ca\", \"thal\"]\n",
    "num_features = [\"age\", \"trestbps\", \"chol\", \"thalach\", \"oldpeak\"]\n",
    "\n",
    "original_df = heart_disease.data.features\n",
    "\n",
    "# Prepare categorical data\n",
    "imputer = SimpleImputer(strategy=\"most_frequent\")\n",
    "original_df.loc[:, cat_features] = imputer.fit_transform(original_df[cat_features])\n",
    "\n",
    "encoder = OneHotEncoder(categories=\"auto\", sparse_output=False)\n",
    "encoded_cat_data = encoder.fit_transform(original_df[cat_features])\n",
    "encoded_features = encoder.get_feature_names_out(cat_features)\n",
    "original_df[encoded_features] = pd.DataFrame(encoded_cat_data, columns=encoded_features)\n",
    "\n",
    "# Prepare numerical data\n",
    "scaler = MinMaxScaler()\n",
    "scaled_num_data = scaler.fit_transform(original_df[num_features])\n",
    "original_df[num_features] = pd.DataFrame(scaled_num_data, columns=num_features)\n",
    "\n",
    "# Convert DataFrame to feature matrix\n",
    "original_df = original_df.drop(columns=cat_features)\n",
    "X = original_df.to_numpy()"
   ]
  },
  {
   "cell_type": "markdown",
   "metadata": {},
   "source": [
    "### Create a target vector (convert values to {0,1} for binary classification)"
   ]
  },
  {
   "cell_type": "code",
   "execution_count": 138,
   "metadata": {},
   "outputs": [],
   "source": [
    "import numpy as np\n",
    "\n",
    "y = heart_disease.data.targets.to_numpy()\n",
    "y_binary = np.where(y >= 1, 1, 0)"
   ]
  },
  {
   "cell_type": "markdown",
   "metadata": {},
   "source": [
    "### Verify matrix/vector dimensions"
   ]
  },
  {
   "cell_type": "code",
   "execution_count": 139,
   "metadata": {},
   "outputs": [
    {
     "name": "stdout",
     "output_type": "stream",
     "text": [
      "Feature matrix shape: (303, 28)\n",
      "Target vector shape: (303, 1)\n"
     ]
    }
   ],
   "source": [
    "print(f\"Feature matrix shape: {X.shape}\")\n",
    "print(f\"Target vector shape: {y_binary.shape}\")"
   ]
  },
  {
   "cell_type": "markdown",
   "metadata": {},
   "source": [
    "### Split dataset to test and train subsets"
   ]
  },
  {
   "cell_type": "code",
   "execution_count": 140,
   "metadata": {},
   "outputs": [],
   "source": [
    "from sklearn.model_selection import train_test_split\n",
    "\n",
    "X_train, X_test, y_train, y_test = train_test_split(X, y_binary, test_size=0.2, random_state=42)"
   ]
  },
  {
   "cell_type": "code",
   "execution_count": 141,
   "metadata": {},
   "outputs": [
    {
     "name": "stdout",
     "output_type": "stream",
     "text": [
      "X_train shape: (242, 28)\n",
      "X_test shape: (61, 28)\n",
      "y_train shape: (242, 1)\n",
      "y_test shape: (61, 1)\n"
     ]
    }
   ],
   "source": [
    "print(f\"X_train shape: {X_train.shape}\")\n",
    "print(f\"X_test shape: {X_test.shape}\")\n",
    "print(f\"y_train shape: {y_train.shape}\")\n",
    "print(f\"y_test shape: {y_test.shape}\")"
   ]
  },
  {
   "cell_type": "markdown",
   "metadata": {},
   "source": [
    "## 2. Model"
   ]
  },
  {
   "cell_type": "markdown",
   "metadata": {},
   "source": [
    "### Hiperparameters"
   ]
  },
  {
   "cell_type": "code",
   "execution_count": 186,
   "metadata": {},
   "outputs": [],
   "source": [
    "ALPHA = 0.0001 # Doesnt work for 0.0001\n",
    "ITER_LIMIT = 250\n",
    "EPSILON = 0.0001\n",
    "TRESHOLD = 0.5"
   ]
  },
  {
   "cell_type": "markdown",
   "metadata": {},
   "source": [
    "### Functions"
   ]
  },
  {
   "cell_type": "code",
   "execution_count": 143,
   "metadata": {},
   "outputs": [],
   "source": [
    "def sigmoid(matrix: np.array) -> np.array:\n",
    "    return 1 / (1 + np.exp(-matrix))\n",
    "\n",
    "\n",
    "def pred_prob(X: np.array, W: np.array, b: np.array) -> np.array:\n",
    "    matrix = np.dot(X, W) + b\n",
    "    return sigmoid(matrix)\n",
    "\n",
    "\n",
    "def update_weights(X: np.array, W: np.array, p: np.array, y: np.array) -> np.array:\n",
    "    gradient = np.dot((y - p).T, X)\n",
    "    return (W + (ALPHA * gradient).T)\n",
    "\n",
    "\n",
    "def update_bias(b: np.array, p: np.array, y: np.array) -> np.array:\n",
    "    gradient = np.sum(y - p)\n",
    "    return b + (ALPHA * gradient)"
   ]
  },
  {
   "cell_type": "markdown",
   "metadata": {},
   "source": [
    "### Model training"
   ]
  },
  {
   "cell_type": "code",
   "execution_count": 187,
   "metadata": {},
   "outputs": [],
   "source": [
    "from sklearn.metrics import accuracy_score, f1_score, recall_score\n",
    "\n",
    "\n",
    "def run() -> dict[int, dict[str, np.float64]]:\n",
    "    results = {}\n",
    "\n",
    "    input_size = X_train.shape[1]\n",
    "    W = np.random.randn(input_size, 1) * 0.01\n",
    "    b = np.ones((1,1))\n",
    "\n",
    "    for i in range(ITER_LIMIT):\n",
    "        p = pred_prob(X_train, W, b)\n",
    "        W_updated = update_weights(X_train, W, p, y_train)\n",
    "        b = update_bias(b, p, y_train)\n",
    "        test_p = pred_prob(X_test, W, b)\n",
    "        test_p_binary = (test_p >= TRESHOLD).astype(int)\n",
    "        results[i] = {\n",
    "            \"recall\": recall_score(y_true=y_test, y_pred=test_p_binary),\n",
    "            \"f1\": f1_score(y_true=y_test, y_pred=test_p_binary),\n",
    "            \"accuracy\": accuracy_score(y_true=y_test, y_pred=test_p_binary)\n",
    "        }\n",
    "        if (np.abs(W_updated - W) <= EPSILON).all():\n",
    "            return results\n",
    "        W = W_updated\n",
    "    return results"
   ]
  },
  {
   "cell_type": "code",
   "execution_count": 188,
   "metadata": {},
   "outputs": [],
   "source": [
    "results = run()"
   ]
  },
  {
   "cell_type": "code",
   "execution_count": 193,
   "metadata": {},
   "outputs": [],
   "source": [
    "import matplotlib.pyplot as plt\n",
    "\n",
    "\n",
    "def plot_results(results: dict[int, np.float64]):\n",
    "    x = list(results.keys())\n",
    "    recall = [results[i]['recall'] for i in x]\n",
    "    f1 = [results[i]['f1'] for i in x]\n",
    "    accuracy = [results[i]['accuracy'] for i in x]\n",
    "\n",
    "    plt.figure(figsize=(8, 6))\n",
    "    plt.plot(x, recall, linestyle='-', color='r', label='Recall')\n",
    "    plt.plot(x, f1, linestyle='-', color='g', label='F1 Score')\n",
    "    plt.plot(x, accuracy, linestyle='-', color='b', label='Accuracy')\n",
    "\n",
    "    plt.xlabel('Epoch')\n",
    "    plt.ylabel('Recall score')\n",
    "    plt.title('Plot of recall scores')\n",
    "\n",
    "    plt.xlim(0, ITER_LIMIT)\n",
    "\n",
    "    plt.legend()\n",
    "\n",
    "    plt.grid(True)\n",
    "    plt.show()"
   ]
  },
  {
   "cell_type": "code",
   "execution_count": 194,
   "metadata": {},
   "outputs": [
    {
     "data": {
      "image/png": "[encoded data removed]",
      "text/plain": [
       "<Figure size 800x600 with 1 Axes>"
      ]
     },
     "metadata": {},
     "output_type": "display_data"
    }
   ],
   "source": [
    "plot_results(results)"
   ]
  }
 ],
 "metadata": {
  "kernelspec": {
   "display_name": ".venv",
   "language": "python",
   "name": "python3"
  },
  "language_info": {
   "codemirror_mode": {
    "name": "ipython",
    "version": 3
   },
   "file_extension": ".py",
   "mimetype": "text/x-python",
   "name": "python",
   "nbconvert_exporter": "python",
   "pygments_lexer": "ipython3",
   "version": "3.12.3"
  }
 },
 "nbformat": 4,
 "nbformat_minor": 2
}
