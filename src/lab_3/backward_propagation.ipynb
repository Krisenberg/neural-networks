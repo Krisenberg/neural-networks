{
 "cells": [
  {
   "cell_type": "markdown",
   "metadata": {},
   "source": [
    "## 1. Data preprocessing (lab 1)"
   ]
  },
  {
   "cell_type": "markdown",
   "metadata": {},
   "source": [
    "### Fetch data"
   ]
  },
  {
   "cell_type": "code",
   "execution_count": 1,
   "metadata": {},
   "outputs": [],
   "source": [
    "from ucimlrepo import fetch_ucirepo\n",
    "\n",
    "heart_disease = fetch_ucirepo(id=45)"
   ]
  },
  {
   "cell_type": "markdown",
   "metadata": {},
   "source": [
    "### Create a feature matrix"
   ]
  },
  {
   "cell_type": "code",
   "execution_count": 2,
   "metadata": {},
   "outputs": [],
   "source": [
    "import pandas as pd\n",
    "from sklearn.impute import SimpleImputer\n",
    "from sklearn.preprocessing import MinMaxScaler, OneHotEncoder\n",
    "\n",
    "cat_features = [\"sex\", \"cp\", \"fbs\", \"restecg\", \"exang\", \"slope\", \"ca\", \"thal\"]\n",
    "num_features = [\"age\", \"trestbps\", \"chol\", \"thalach\", \"oldpeak\"]\n",
    "\n",
    "original_df = heart_disease.data.features\n",
    "\n",
    "# Prepare categorical data\n",
    "imputer = SimpleImputer(strategy=\"most_frequent\")\n",
    "original_df.loc[:, cat_features] = imputer.fit_transform(original_df[cat_features])\n",
    "\n",
    "encoder = OneHotEncoder(categories=\"auto\", sparse_output=False)\n",
    "encoded_cat_data = encoder.fit_transform(original_df[cat_features])\n",
    "encoded_features = encoder.get_feature_names_out(cat_features)\n",
    "original_df[encoded_features] = pd.DataFrame(encoded_cat_data, columns=encoded_features)\n",
    "\n",
    "# Prepare numerical data\n",
    "scaler = MinMaxScaler()\n",
    "scaled_num_data = scaler.fit_transform(original_df[num_features])\n",
    "original_df[num_features] = pd.DataFrame(scaled_num_data, columns=num_features)\n",
    "\n",
    "# Convert DataFrame to feature matrix\n",
    "original_df = original_df.drop(columns=cat_features)\n",
    "X = original_df.to_numpy()"
   ]
  },
  {
   "cell_type": "markdown",
   "metadata": {},
   "source": [
    "### Create a target vector (convert values to {0,1} for binary classification)"
   ]
  },
  {
   "cell_type": "code",
   "execution_count": 3,
   "metadata": {},
   "outputs": [],
   "source": [
    "import numpy as np\n",
    "\n",
    "y = heart_disease.data.targets.to_numpy()\n",
    "y_binary = np.where(y >= 1, 1, 0)"
   ]
  },
  {
   "cell_type": "markdown",
   "metadata": {},
   "source": [
    "### Verify matrix/vector dimensions"
   ]
  },
  {
   "cell_type": "code",
   "execution_count": 4,
   "metadata": {},
   "outputs": [
    {
     "name": "stdout",
     "output_type": "stream",
     "text": [
      "Feature matrix shape: (303, 28)\n",
      "Target vector shape: (303, 1)\n"
     ]
    }
   ],
   "source": [
    "print(f\"Feature matrix shape: {X.shape}\")\n",
    "print(f\"Target vector shape: {y_binary.shape}\")"
   ]
  },
  {
   "cell_type": "markdown",
   "metadata": {},
   "source": [
    "### Split dataset to test and train subsets"
   ]
  },
  {
   "cell_type": "code",
   "execution_count": 7,
   "metadata": {},
   "outputs": [],
   "source": [
    "from sklearn.model_selection import train_test_split\n",
    "\n",
    "X_train, X_test, y_train, y_test = train_test_split(X, y_binary, test_size=0.2, random_state=42)\n",
    "X_train = X_train.T\n",
    "X_test = X_test.T"
   ]
  },
  {
   "cell_type": "code",
   "execution_count": 8,
   "metadata": {},
   "outputs": [
    {
     "name": "stdout",
     "output_type": "stream",
     "text": [
      "X_train shape: (28, 242)\n",
      "X_test shape: (28, 61)\n",
      "y_train shape: (242, 1)\n",
      "y_test shape: (61, 1)\n"
     ]
    }
   ],
   "source": [
    "print(f\"X_train shape: {X_train.shape}\")\n",
    "print(f\"X_test shape: {X_test.shape}\")\n",
    "print(f\"y_train shape: {y_train.shape}\")\n",
    "print(f\"y_test shape: {y_test.shape}\")"
   ]
  },
  {
   "cell_type": "markdown",
   "metadata": {},
   "source": [
    "## 2. Model"
   ]
  },
  {
   "cell_type": "markdown",
   "metadata": {},
   "source": [
    "### Hiperparameters"
   ]
  },
  {
   "cell_type": "code",
   "execution_count": 8,
   "metadata": {},
   "outputs": [],
   "source": [
    "ALPHA = 0.0001\n",
    "EPOCH_LIMIT = 250\n",
    "EPSILON = 0.0001\n",
    "TRESHOLD = 0.5"
   ]
  },
  {
   "cell_type": "markdown",
   "metadata": {},
   "source": [
    "### Functions"
   ]
  },
  {
   "cell_type": "markdown",
   "metadata": {},
   "source": [
    "- $\\sigma(x) = \\frac{1}{1 + e^{-x}}$  \n",
    "- $sigmoid(X=[x_{1}, x_{2}, ..., x_{n}]) = [\\sigma(x_{1}), \\sigma(x_{2}), ..., \\sigma(x_{n})]$  \n",
    "\n",
    "##### Let:  \n",
    "$X_{i \\times j}$=\n",
    "$\\begin{bmatrix}\n",
    "    x_{11} & x_{12} & x_{13} & \\dots  & x_{1j} \\\\\n",
    "    x_{21} & x_{22} & x_{23} & \\dots  & x_{2j} \\\\\n",
    "    \\vdots & \\vdots & \\vdots & \\ddots & \\vdots \\\\\n",
    "    x_{i1} & x_{i2} & x_{i3} & \\dots  & x_{ij}\n",
    "\\end{bmatrix}$, \n",
    "$W_{1 \\times j}$=\n",
    "$\\begin{bmatrix}\n",
    "    w_{1} & w_{2} & w_{3} & \\dots  & w_{j}\n",
    "\\end{bmatrix}$,\n",
    "$b_{1 \\times 1}$=\n",
    "$\\begin{bmatrix}\n",
    "    bias\n",
    "\\end{bmatrix}$,  \n",
    "\n",
    "##### Then:\n",
    "- $pred\\_prob(X_{i \\times j}, W_{1 \\times j}, b_{1 \\times 1}) = sigmoid(((XW^{T})_{i \\times 1} + b\\_ext_{i \\times 1})_{i \\times 1})$  \n",
    "- $update\\_weights(X_{i \\times j}, W_{1 \\times j}, p_{i \\times 1}, y_{i \\times 1}) = W_{1 \\times j} + \\alpha * (((y_{i \\times 1} - p_{i \\times 1})^{T})_{1 \\times i}X_{i \\times j})_{1 \\times j}$"
   ]
  },
  {
   "cell_type": "code",
   "execution_count": 21,
   "metadata": {},
   "outputs": [],
   "source": [
    "def sigmoid(vector: np.ndarray) -> np.ndarray:\n",
    "    return 1 / (1 + np.exp(-vector))\n",
    "\n",
    "\n",
    "def cost(p: np.ndarray, y: np.ndarray) -> np.float64:\n",
    "    vector = (-y * np.log(p)) - ((1 - y) * np.log(1 - p))\n",
    "    # print(vector.shape)\n",
    "    res = np.sum(vector)\n",
    "    # print(type(res))\n",
    "    return res\n",
    "\n",
    "\n",
    "def pred_prob(X: np.ndarray, W: np.ndarray, b: np.ndarray) -> np.array:\n",
    "    vector = (X @ W) + b\n",
    "    return sigmoid(vector)\n",
    "\n",
    "\n",
    "def update_weights(X: np.ndarray, W: np.ndarray, p: np.ndarray, y: np.ndarray) -> np.ndarray:\n",
    "    gradient = (y-p).T @ X\n",
    "    return (W + (ALPHA * gradient).T)\n",
    "\n",
    "\n",
    "def update_bias(b: np.ndarray, p: np.ndarray, y: np.ndarray) -> np.ndarray:\n",
    "    gradient = np.sum(y - p)\n",
    "    return b + (ALPHA * gradient)"
   ]
  },
  {
   "cell_type": "markdown",
   "metadata": {},
   "source": [
    "### Layer definition"
   ]
  },
  {
   "cell_type": "code",
   "execution_count": 10,
   "metadata": {},
   "outputs": [],
   "source": [
    "from collections.abc import Callable\n",
    "\n",
    "\n",
    "class Layer:\n",
    "    def __init__(self, input_size: int, output_size: int):\n",
    "        self.weights = np.random.randn(output_size, input_size) * 0.01\n",
    "        self.bias = np.zeros((output_size, 1))\n",
    "\n",
    "    def forward(self, a_prev: np.ndarray, f_activ: Callable) -> np.ndarray:\n",
    "        self.cache_a_prev = a_prev\n",
    "        self.cache_z = self.weights @ a_prev + self.bias\n",
    "        return f_activ(self.cache_z)\n",
    "\n",
    "    def backward(self, delta_next: np.ndarray, derivative_f_activ: Callable):\n",
    "        delta = delta_next * derivative_f_activ(self.cache_z)\n",
    "        self.dW = delta @ self.cache_a_prev.T\n",
    "        self.db = np.sum(delta, axis=1, keepdims=True)\n",
    "        return self.weights.T @ delta"
   ]
  },
  {
   "cell_type": "markdown",
   "metadata": {},
   "source": [
    "### Network definition"
   ]
  },
  {
   "cell_type": "code",
   "execution_count": 11,
   "metadata": {},
   "outputs": [],
   "source": [
    "from sklearn.metrics import accuracy_score, f1_score, recall_score\n",
    "\n",
    "\n",
    "class Network:\n",
    "    def __init__(\n",
    "        self,\n",
    "        layers_dims: list[tuple[int, int]],\n",
    "        learning_rate: float,\n",
    "        f_activ: Callable,\n",
    "        f_activ_derivative: Callable\n",
    "    ):\n",
    "        self.layers: list[Layer] = []\n",
    "        self.learning_rate = learning_rate\n",
    "        self.f_activ = f_activ\n",
    "        self.f_activ_derivative = f_activ_derivative\n",
    "        for input_s, output_s in layers_dims:\n",
    "            self.layers.append(Layer(input_s, output_s))\n",
    "\n",
    "    def pass_forward(self, X: np.ndarray):\n",
    "        a = self.layers[0].forward(X, self.f_activ)\n",
    "        for i in range(1, len(self.layers)):\n",
    "            a = self.layers[i].forward(a, self.f_activ)\n",
    "        return a\n",
    "\n",
    "    def calculate_error_delta(self, last_z, y_pred, y_true):\n",
    "        delta_a = (y_pred - y_true) / (y_pred - y_pred**2)\n",
    "        return delta_a * self.f_activ_derivative(last_z)\n",
    "\n",
    "    def calculate_cost(self, y_pred, y_true):\n",
    "        vector = (-y_true * np.log(y_pred)) - ((1 - y_true) * np.log(1 - y_pred))\n",
    "        return np.sum(vector)\n",
    "\n",
    "    def pass_backward(self, delta):\n",
    "        for layer in self.layers[-1::]:\n",
    "            delta = layer.backward(delta, self.f_activ_derivative)\n",
    "\n",
    "    def update_weights_biases(self):\n",
    "        for layer in self.layers:\n",
    "            layer.weights -= self.learning_rate * layer.dW\n",
    "            layer.bias -= self.learning_rate * layer.db\n",
    "\n",
    "    def run_epoch(self, X, y_true) -> dict[str, float]:\n",
    "        y_pred_tmp = self.pass_forward(X)\n",
    "        y_pred = (y_pred_tmp >= 0.5).astype(int)\n",
    "        delta = self.calculate_error_delta(self.layers[-1].cache_z, y_pred, y_true)\n",
    "        self.pass_backward(delta)\n",
    "        self.update_weights_biases()\n",
    "        results = {\n",
    "            \"recall\": recall_score(y_true=y_true, y_pred=y_pred),\n",
    "            \"f1\": f1_score(y_true=y_true, y_pred=y_pred),\n",
    "            \"accuracy\": accuracy_score(y_true=y_true, y_pred=y_pred),\n",
    "            \"cost\": self.calculate_cost(y_true=y_true, y_pred=y_pred)\n",
    "        }\n",
    "        return results"
   ]
  },
  {
   "cell_type": "markdown",
   "metadata": {},
   "source": [
    "### Model training"
   ]
  },
  {
   "cell_type": "code",
   "execution_count": 14,
   "metadata": {},
   "outputs": [],
   "source": [
    "def sigmoid(z: np.ndarray) -> np.ndarray:\n",
    "    return 1 / (1 + np.exp(-z))\n",
    "\n",
    "def sigmoid_derivative(z: np.ndarray) -> np.ndarray:\n",
    "    s = sigmoid(z)\n",
    "    return s * (1 - s)\n",
    "\n",
    "\n",
    "model = Network(\n",
    "    layers_dims=[(X_train.shape[0], 16), (16, 8), (8, 1)],\n",
    "    learning_rate=0.001,\n",
    "    f_activ=sigmoid,\n",
    "    f_activ_derivative=sigmoid_derivative\n",
    ")\n",
    "\n",
    "\n",
    "def run(epoch_limit: int) -> dict[int, dict[str, np.float64]]:\n",
    "    results = {}\n",
    "\n",
    "    for i in range(epoch_limit):\n",
    "        results[i] = model.run_epoch(X_train, y_train)\n",
    "    return results"
   ]
  },
  {
   "cell_type": "markdown",
   "metadata": {},
   "source": [
    "### Run the model and plot the metrics"
   ]
  },
  {
   "cell_type": "code",
   "execution_count": 15,
   "metadata": {},
   "outputs": [
    {
     "name": "stderr",
     "output_type": "stream",
     "text": [
      "C:\\Users\\Kris\\AppData\\Local\\Temp\\ipykernel_17876\\1287668258.py:26: RuntimeWarning: divide by zero encountered in divide\n",
      "  delta_a = (y_pred - y_true) / (y_pred - y_pred**2)\n",
      "C:\\Users\\Kris\\AppData\\Local\\Temp\\ipykernel_17876\\1287668258.py:26: RuntimeWarning: invalid value encountered in divide\n",
      "  delta_a = (y_pred - y_true) / (y_pred - y_pred**2)\n"
     ]
    },
    {
     "ename": "ValueError",
     "evalue": "matmul: Input operand 1 has a mismatch in its core dimension 0, with gufunc signature (n?,k),(k,m?)->(n?,m?) (size 242 is different from 1)",
     "output_type": "error",
     "traceback": [
      "\u001b[1;31m---------------------------------------------------------------------------\u001b[0m",
      "\u001b[1;31mValueError\u001b[0m                                Traceback (most recent call last)",
      "Cell \u001b[1;32mIn[15], line 1\u001b[0m\n\u001b[1;32m----> 1\u001b[0m results \u001b[38;5;241m=\u001b[39m \u001b[43mrun\u001b[49m\u001b[43m(\u001b[49m\u001b[43mepoch_limit\u001b[49m\u001b[38;5;241;43m=\u001b[39;49m\u001b[38;5;241;43m500\u001b[39;49m\u001b[43m)\u001b[49m\n",
      "Cell \u001b[1;32mIn[14], line 21\u001b[0m, in \u001b[0;36mrun\u001b[1;34m(epoch_limit)\u001b[0m\n\u001b[0;32m     18\u001b[0m results \u001b[38;5;241m=\u001b[39m {}\n\u001b[0;32m     20\u001b[0m \u001b[38;5;28;01mfor\u001b[39;00m i \u001b[38;5;129;01min\u001b[39;00m \u001b[38;5;28mrange\u001b[39m(epoch_limit):\n\u001b[1;32m---> 21\u001b[0m     results[i] \u001b[38;5;241m=\u001b[39m \u001b[43mmodel\u001b[49m\u001b[38;5;241;43m.\u001b[39;49m\u001b[43mrun_epoch\u001b[49m\u001b[43m(\u001b[49m\u001b[43mX_train\u001b[49m\u001b[43m,\u001b[49m\u001b[43m \u001b[49m\u001b[43my_train\u001b[49m\u001b[43m)\u001b[49m\n\u001b[0;32m     22\u001b[0m \u001b[38;5;28;01mreturn\u001b[39;00m results\n",
      "Cell \u001b[1;32mIn[11], line 46\u001b[0m, in \u001b[0;36mNetwork.run_epoch\u001b[1;34m(self, X, y_true)\u001b[0m\n\u001b[0;32m     44\u001b[0m y_pred \u001b[38;5;241m=\u001b[39m (y_pred_tmp \u001b[38;5;241m>\u001b[39m\u001b[38;5;241m=\u001b[39m \u001b[38;5;241m0.5\u001b[39m)\u001b[38;5;241m.\u001b[39mastype(\u001b[38;5;28mint\u001b[39m)\n\u001b[0;32m     45\u001b[0m delta \u001b[38;5;241m=\u001b[39m \u001b[38;5;28mself\u001b[39m\u001b[38;5;241m.\u001b[39mcalculate_error_delta(\u001b[38;5;28mself\u001b[39m\u001b[38;5;241m.\u001b[39mlayers[\u001b[38;5;241m-\u001b[39m\u001b[38;5;241m1\u001b[39m]\u001b[38;5;241m.\u001b[39mcache_z, y_pred, y_true)\n\u001b[1;32m---> 46\u001b[0m \u001b[38;5;28;43mself\u001b[39;49m\u001b[38;5;241;43m.\u001b[39;49m\u001b[43mpass_backward\u001b[49m\u001b[43m(\u001b[49m\u001b[43mdelta\u001b[49m\u001b[43m)\u001b[49m\n\u001b[0;32m     47\u001b[0m \u001b[38;5;28mself\u001b[39m\u001b[38;5;241m.\u001b[39mupdate_weights_biases()\n\u001b[0;32m     48\u001b[0m results \u001b[38;5;241m=\u001b[39m {\n\u001b[0;32m     49\u001b[0m     \u001b[38;5;124m\"\u001b[39m\u001b[38;5;124mrecall\u001b[39m\u001b[38;5;124m\"\u001b[39m: recall_score(y_true\u001b[38;5;241m=\u001b[39my_true, y_pred\u001b[38;5;241m=\u001b[39my_pred),\n\u001b[0;32m     50\u001b[0m     \u001b[38;5;124m\"\u001b[39m\u001b[38;5;124mf1\u001b[39m\u001b[38;5;124m\"\u001b[39m: f1_score(y_true\u001b[38;5;241m=\u001b[39my_true, y_pred\u001b[38;5;241m=\u001b[39my_pred),\n\u001b[0;32m     51\u001b[0m     \u001b[38;5;124m\"\u001b[39m\u001b[38;5;124maccuracy\u001b[39m\u001b[38;5;124m\"\u001b[39m: accuracy_score(y_true\u001b[38;5;241m=\u001b[39my_true, y_pred\u001b[38;5;241m=\u001b[39my_pred),\n\u001b[0;32m     52\u001b[0m     \u001b[38;5;124m\"\u001b[39m\u001b[38;5;124mcost\u001b[39m\u001b[38;5;124m\"\u001b[39m: \u001b[38;5;28mself\u001b[39m\u001b[38;5;241m.\u001b[39mcalculate_cost(y_true\u001b[38;5;241m=\u001b[39my_true, y_pred\u001b[38;5;241m=\u001b[39my_pred)\n\u001b[0;32m     53\u001b[0m }\n",
      "Cell \u001b[1;32mIn[11], line 35\u001b[0m, in \u001b[0;36mNetwork.pass_backward\u001b[1;34m(self, delta)\u001b[0m\n\u001b[0;32m     33\u001b[0m \u001b[38;5;28;01mdef\u001b[39;00m \u001b[38;5;21mpass_backward\u001b[39m(\u001b[38;5;28mself\u001b[39m, delta):\n\u001b[0;32m     34\u001b[0m     \u001b[38;5;28;01mfor\u001b[39;00m layer \u001b[38;5;129;01min\u001b[39;00m \u001b[38;5;28mself\u001b[39m\u001b[38;5;241m.\u001b[39mlayers[\u001b[38;5;241m-\u001b[39m\u001b[38;5;241m1\u001b[39m::]:\n\u001b[1;32m---> 35\u001b[0m         delta \u001b[38;5;241m=\u001b[39m \u001b[43mlayer\u001b[49m\u001b[38;5;241;43m.\u001b[39;49m\u001b[43mbackward\u001b[49m\u001b[43m(\u001b[49m\u001b[43mdelta\u001b[49m\u001b[43m,\u001b[49m\u001b[43m \u001b[49m\u001b[38;5;28;43mself\u001b[39;49m\u001b[38;5;241;43m.\u001b[39;49m\u001b[43mf_activ_derivative\u001b[49m\u001b[43m)\u001b[49m\n",
      "Cell \u001b[1;32mIn[10], line 18\u001b[0m, in \u001b[0;36mLayer.backward\u001b[1;34m(self, delta_next, derivative_f_activ)\u001b[0m\n\u001b[0;32m     16\u001b[0m \u001b[38;5;28mself\u001b[39m\u001b[38;5;241m.\u001b[39mdW \u001b[38;5;241m=\u001b[39m delta \u001b[38;5;241m@\u001b[39m \u001b[38;5;28mself\u001b[39m\u001b[38;5;241m.\u001b[39mcache_a_prev\u001b[38;5;241m.\u001b[39mT\n\u001b[0;32m     17\u001b[0m \u001b[38;5;28mself\u001b[39m\u001b[38;5;241m.\u001b[39mdb \u001b[38;5;241m=\u001b[39m np\u001b[38;5;241m.\u001b[39msum(delta, axis\u001b[38;5;241m=\u001b[39m\u001b[38;5;241m1\u001b[39m, keepdims\u001b[38;5;241m=\u001b[39m\u001b[38;5;28;01mTrue\u001b[39;00m)\n\u001b[1;32m---> 18\u001b[0m \u001b[38;5;28;01mreturn\u001b[39;00m \u001b[38;5;28;43mself\u001b[39;49m\u001b[38;5;241;43m.\u001b[39;49m\u001b[43mweights\u001b[49m\u001b[38;5;241;43m.\u001b[39;49m\u001b[43mT\u001b[49m\u001b[43m \u001b[49m\u001b[38;5;241;43m@\u001b[39;49m\u001b[43m \u001b[49m\u001b[43mdelta\u001b[49m\n",
      "\u001b[1;31mValueError\u001b[0m: matmul: Input operand 1 has a mismatch in its core dimension 0, with gufunc signature (n?,k),(k,m?)->(n?,m?) (size 242 is different from 1)"
     ]
    }
   ],
   "source": [
    "results = run(epoch_limit=500)"
   ]
  },
  {
   "cell_type": "code",
   "execution_count": 28,
   "metadata": {},
   "outputs": [],
   "source": [
    "import matplotlib.pyplot as plt\n",
    "\n",
    "\n",
    "def plot_metrics(results: dict[int, np.float64]):\n",
    "    x = list(results.keys())\n",
    "    recall = [results[i]['recall'] for i in x]\n",
    "    f1 = [results[i]['f1'] for i in x]\n",
    "    accuracy = [results[i]['accuracy'] for i in x]\n",
    "\n",
    "    plt.figure(figsize=(8, 6))\n",
    "    plt.plot(x, recall, linestyle='-', color='r', label='Recall')\n",
    "    plt.plot(x, f1, linestyle='-', color='g', label='F1 Score')\n",
    "    plt.plot(x, accuracy, linestyle='-', color='b', label='Accuracy')\n",
    "\n",
    "    plt.xlabel('Epoch')\n",
    "    plt.ylabel('Metric score')\n",
    "    plt.title('Plot of metric scores')\n",
    "\n",
    "    plt.xlim(0, 150)\n",
    "\n",
    "    plt.legend()\n",
    "\n",
    "    plt.grid(True)\n",
    "    plt.show()\n",
    "\n",
    "\n",
    "def plot_cost(results: dict[int, np.float64]):\n",
    "    x = list(results.keys())\n",
    "    cost = [results[i]['cost'] for i in x]\n",
    "\n",
    "    plt.figure(figsize=(8, 6))\n",
    "    plt.plot(x, cost, linestyle='-', color='r', label='Cost')\n",
    "\n",
    "    plt.xlabel('Epoch')\n",
    "    plt.ylabel('Cost function value')\n",
    "    plt.title('Plot of cost value over time (epochs)')\n",
    "\n",
    "    plt.xlim(0, 150)\n",
    "\n",
    "    plt.legend()\n",
    "\n",
    "    plt.grid(True)\n",
    "    plt.show()"
   ]
  },
  {
   "cell_type": "code",
   "execution_count": 29,
   "metadata": {},
   "outputs": [
    {
     "data": {
      "image/png": "[encoded data removed]",
      "text/plain": [
       "<Figure size 800x600 with 1 Axes>"
      ]
     },
     "metadata": {},
     "output_type": "display_data"
    },
    {
     "data": {
      "image/png": "[encoded data removed]",
      "text/plain": [
       "<Figure size 800x600 with 1 Axes>"
      ]
     },
     "metadata": {},
     "output_type": "display_data"
    }
   ],
   "source": [
    "results = run(X_train, X_test, y_train, y_test, EPOCH_LIMIT)\n",
    "plot_metrics(results)\n",
    "plot_cost(results)"
   ]
  },
  {
   "cell_type": "markdown",
   "metadata": {},
   "source": [
    "## 3. Summary"
   ]
  },
  {
   "cell_type": "markdown",
   "metadata": {},
   "source": [
    "**Observations:**\n",
    "1. The above chart shows the performance metrics of a logistic regression model that was trained on medical data for the prediction of heart disease.\n",
    "\n",
    "2. The model uses 28 features (preprocessed on the previous lab class) to predict a binary target - presence or absence of heart disease. Three metrics were used to visualise the performance of the model over time (time = epochs): Recall, F1 score, and Accuracy.\n",
    "\n",
    "3. All three metrics started close to 0 but soon reached at least 0.5 after +/- 20 epochs. The overall trajectory implies that the performance of the model improves with more iterations (epochs).\n",
    "\n",
    "4. Accuracy (blue line) shows the most stable performance, reaching about 0.85 by the end of training, while Recall (red line) \"struggled\" much more to improve its value, but finally finished with a value greater than 0.8.\n",
    "\n",
    "5. All metrics seem to plateau after about 85 epochs, suggesting that further training is probably pointless.\n",
    "\n",
    "**Conclusion**  \n",
    "Based on the presented picture, we can conclude that this logistic regression model is quite effective in predicting heart disease from the given medical data. The recall metric is perhaps the most important as it describes the model's ability to identify positive cases. However, the overall accuracy is also high. We can assume that for such a simple task (binary classification) this type of model could be considered adequate."
   ]
  }
 ],
 "metadata": {
  "kernelspec": {
   "display_name": ".venv",
   "language": "python",
   "name": "python3"
  },
  "language_info": {
   "codemirror_mode": {
    "name": "ipython",
    "version": 3
   },
   "file_extension": ".py",
   "mimetype": "text/x-python",
   "name": "python",
   "nbconvert_exporter": "python",
   "pygments_lexer": "ipython3",
   "version": "3.12.3"
  }
 },
 "nbformat": 4,
 "nbformat_minor": 2
}
