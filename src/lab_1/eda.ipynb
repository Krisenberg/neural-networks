{
 "cells": [
  {
   "cell_type": "markdown",
   "metadata": {},
   "source": [
    "## 1. Dataset import"
   ]
  },
  {
   "cell_type": "markdown",
   "metadata": {},
   "source": [
    "### Fetch heart disease dataset"
   ]
  },
  {
   "cell_type": "code",
   "execution_count": 1,
   "metadata": {},
   "outputs": [],
   "source": [
    "from ucimlrepo import fetch_ucirepo\n",
    "\n",
    "heart_disease = fetch_ucirepo(id=45)"
   ]
  },
  {
   "cell_type": "markdown",
   "metadata": {},
   "source": [
    "### Dataset metadata"
   ]
  },
  {
   "cell_type": "code",
   "execution_count": null,
   "metadata": {},
   "outputs": [],
   "source": [
    "print(\"{:=^50}\".format(\"Metadata\"))\n",
    "for k, v in heart_disease.metadata.items():\n",
    "    print(f\"{k}:\\t{v}\")"
   ]
  },
  {
   "cell_type": "markdown",
   "metadata": {},
   "source": [
    "### Variables info"
   ]
  },
  {
   "cell_type": "code",
   "execution_count": null,
   "metadata": {},
   "outputs": [],
   "source": [
    "print(\"\\n{:=^50}\".format(\"Variables\"))\n",
    "important_cols = [\"name\", \"role\", \"type\", \"units\", \"missing_values\"]\n",
    "print(heart_disease.variables[important_cols])"
   ]
  },
  {
   "cell_type": "markdown",
   "metadata": {},
   "source": [
    "## 2. Data profiling"
   ]
  },
  {
   "cell_type": "markdown",
   "metadata": {},
   "source": [
    "### Profile generation"
   ]
  },
  {
   "cell_type": "code",
   "execution_count": null,
   "metadata": {},
   "outputs": [],
   "source": [
    "from pathlib import Path\n",
    "\n",
    "from ydata_profiling import ProfileReport\n",
    "\n",
    "data_df = heart_disease.data.original\n",
    "dataset_profile = ProfileReport(data_df, title = \"Heart disease report\")\n",
    "report_path = Path.cwd()/\"dataset_report.html\"\n",
    "dataset_profile.to_file(report_path, silent=True)"
   ]
  },
  {
   "cell_type": "markdown",
   "metadata": {},
   "source": [
    "### Profile overview"
   ]
  },
  {
   "cell_type": "markdown",
   "metadata": {},
   "source": [
    "##### Features"
   ]
  },
  {
   "cell_type": "markdown",
   "metadata": {},
   "source": [
    "- `age` [_numerical_]:\n",
    "    - min. 29, max. 77, mean 54.44, median 56, std. dev. 9\n",
    "    - patients aged mainly 40 (5-th percentile) - 68 (95-th percentile)\n",
    "- `sex` [_categorical_]:\n",
    "    - $values \\in \\{0, 1\\}$\n",
    "    - not evenly distributed (206 male, 97 female)\n",
    "- `cp` (chest pain type) [_categorical_]:\n",
    "    - $values \\in \\{1, 2, 3, 4\\}$ = {typical angina, atypical angina, non-anginal pain, asymptomatic}\n",
    "    - not evenly distributed - (respectively: 23, 50, 86, 144)\n",
    "- `trestbps` (resting blood pressure) [_integer_]:\n",
    "    - min. 94, max. 200, mean 131.69, median 130, std. dev. 17.6\n",
    "- `chol` (serum cholestoral) [_integer_]:\n",
    "    - min. 126, max. 564, mean 246.69, std. dev. 51.8\n",
    "- `fbs` (fasting blood sugar > 120 mg/dl) [_categorical_]:\n",
    "    - $values \\in \\{0, 1\\}$ (1 = true; 0 = false)\n",
    "    - not evenly distributed (258 false, 45 true)\n",
    "- `restecg` (resting electrocardiographic results) [_categorical_]:\n",
    "    - $values \\in \\{0, 1, 2\\}$, where:\n",
    "        - 0: normal\n",
    "        - 1: having ST-T wave abnormality (T wave inversions and/or ST elevation or depression of > 0.05 mV)\n",
    "        - 2: showing probable or definite left ventricular hypertrophy by Estes' criteria\n",
    "    - not evenly distributed (0 - 151, 1 - 4, 2 - 148)\n",
    "- `thalach` (maximum heart rate achieved) [_integer_]:\n",
    "    - min. 71, max. 202, mean 149.6, std. dev. 22.9\n",
    "- `exang` (exercise induced angina) [_categorical_]:\n",
    "    - $values \\in \\{0, 1\\}$ (1 = yes; 0 = no)\n",
    "    - not evenly distributed (204 patitents without this disease, only 99 with)\n",
    "- `oldpeak` (ST depression induced by exercise relative to rest) [_integer_]:\n",
    "    - min. 0, max. 6.2, mean 1.04, median 0.8, std. dev. 1.16\n",
    "    - definitely not a normal distribution (not even close)\n",
    "- `slope` (the slope of the peak exercise ST segment) [_categorical_]:\n",
    "    - $values \\in \\{1, 2, 3\\}$ (1 = upsloping; 2 = flat; 3 = downsloping)\n",
    "    - not evenly distributed (1 - 142, 2 - 140, 3 - 21)\n",
    "- `ca` (number of major vessels (0-3) colored by flourosopy) [_categorical_]:\n",
    "    - $values \\in \\{0, 1, 2, 3\\}$\n",
    "    - not evenly distributed (0 - 176, 1 - 65, 2 - 38, 3 - 20)\n",
    "    - 4 values missing\n",
    "- `thal` [_categorical_]:\n",
    "    - $values \\in \\{3, 6, 7\\}$ (3 = normal; 6 = fixed defect; 7 = reversable defect)\n",
    "    - not evenly distributed (3 - 166, 6 - 18, 7 - 117)"
   ]
  },
  {
   "cell_type": "markdown",
   "metadata": {},
   "source": [
    "##### Correlation matrix"
   ]
  },
  {
   "cell_type": "markdown",
   "metadata": {},
   "source": [
    "\n",
    "- Noticeable negative correlation between `age` and `thalach` (maximum heart rate achieved), also between `oldpeak` (ST depression induced by exercise relative to rest) and `thalach`.\n",
    "- Positive correlation between `cp` and `exang` (categorical features).  \n",
    "<img src=\"./assets/correlation_matrix.png\" alt=\"Correlation Matrix\" width=\"500\"/>"
   ]
  },
  {
   "cell_type": "markdown",
   "metadata": {},
   "source": [
    "### Numerical features distributions"
   ]
  },
  {
   "cell_type": "markdown",
   "metadata": {},
   "source": [
    "##### Code"
   ]
  },
  {
   "cell_type": "code",
   "execution_count": 5,
   "metadata": {},
   "outputs": [],
   "source": [
    "import matplotlib.pyplot as plt\n",
    "import pandas as pd\n",
    "from scipy import stats\n",
    "\n",
    "\n",
    "def plot_distributions(\n",
    "    data_df: pd.DataFrame,\n",
    "    features: list[str],\n",
    "    filename: str | None = None,\n",
    "    n_cols: int = 2\n",
    "):\n",
    "    n_features = len(features)\n",
    "    n_rows = (n_features + n_cols - 1) // n_cols\n",
    "\n",
    "    fig, axes = plt.subplots(n_rows, n_cols, figsize=(4*n_cols, 3*n_rows))\n",
    "    fig.suptitle(\"Distribution of Features vs Normal Distribution\", fontsize=16)\n",
    "\n",
    "    for i, feature in enumerate(features):\n",
    "        row = i // n_cols\n",
    "        col = i % n_cols\n",
    "        ax = axes[row, col] if n_rows > 1 else axes[col]\n",
    "        data = sorted(data_df[feature])\n",
    "\n",
    "        # Fit normal distribution\n",
    "        mean, std = stats.norm.fit(data)\n",
    "        pdf_norm = stats.norm.pdf(data, mean, std)\n",
    "\n",
    "        # Plot histogram and fitted normal distribution\n",
    "        ax.hist(data, bins=\"auto\", density=True, alpha=0.7)\n",
    "        ax.plot(data, pdf_norm, \"red\", label=\"Normal\")\n",
    "\n",
    "        ax.set_title(feature)\n",
    "        ax.set_xlabel(\"Values\")\n",
    "        ax.set_ylabel(\"Density\")\n",
    "        ax.legend()\n",
    "\n",
    "    # Remove unused plots\n",
    "    for i in range(n_features, n_rows * n_cols):\n",
    "        row = i // n_cols\n",
    "        col = i % n_cols\n",
    "        fig.delaxes(axes[row, col] if n_rows > 1 else axes[col])\n",
    "\n",
    "    plt.tight_layout()\n",
    "    plt.subplots_adjust(top=0.9)\n",
    "    if filename:\n",
    "        plt.savefig(filename)\n",
    "    plt.close()"
   ]
  },
  {
   "cell_type": "code",
   "execution_count": 7,
   "metadata": {},
   "outputs": [],
   "source": [
    "from pathlib import Path\n",
    "\n",
    "from sklearn.preprocessing import MinMaxScaler\n",
    "\n",
    "num_features = [\"age\", \"trestbps\", \"chol\", \"thalach\", \"oldpeak\"]\n",
    "\n",
    "original_df = heart_disease.data.features\n",
    "\n",
    "scaler = MinMaxScaler()\n",
    "scaled_num_data = scaler.fit_transform(original_df[num_features])\n",
    "scaled_num_df = pd.DataFrame(scaled_num_data, columns=num_features)\n",
    "\n",
    "plot_distributions(\n",
    "    original_df, num_features, filename=Path.cwd()/\"assets\"/\"original_dist.png\"\n",
    ")\n",
    "plot_distributions(\n",
    "    scaled_num_df, num_features, filename=Path.cwd()/\"assets\"/\"scaled_dist.png\"\n",
    ")"
   ]
  },
  {
   "cell_type": "markdown",
   "metadata": {},
   "source": [
    "##### Comparison\n",
    "\n",
    "We can make the following observations based on the charts provided below (original data - left, scaled data by `MinMaxScaler` - right):\n",
    "- `age`: roughly normal distribution, with a slight left skew.\n",
    "- `trestbps`: somewhat normal distribution but with multiple peaks.\n",
    "- `chol`: a little bit right-skewed but not very much different from a normal dist. bell curve.\n",
    "- `thalach`: left-skewed and somewhat bimodal. Deviates quite much from a normal distribution.\n",
    "- `oldpeak`: highly skewed distribution with a large peak at 0 and a long right tail. Very far from a normal distribution.  \n",
    "\n",
    "Based on those observations I decided to choose `MinMaxScaler` for the further data processing. Neural network requires numerical data to be scaled to some fixed range while also keeping the original data distribution. This type of scaler fits perfectly to this use case.\n",
    "\n",
    "\n",
    "<p align=\"center\">\n",
    "    <img src=\"./assets/original_dist.png\" alt=\"Original features distribution\" width=\"500\"/>\n",
    "    <img src=\"./assets/scaled_dist.png\" alt=\"Scaled features distribution\" width=\"500\"/>\n",
    "</p>"
   ]
  },
  {
   "cell_type": "markdown",
   "metadata": {},
   "source": [
    "### Summary"
   ]
  },
  {
   "cell_type": "markdown",
   "metadata": {},
   "source": [
    "1. Dataset is not well-balanced. It is noticeable especially in the following features: `sex`, `fbs`, `exang`.\n",
    "2. Distributions of some numerical features can be considered as close to normal (`trestbps`, `chol`, `age`) but the distribution of `oldpeak` is defenitely not a normal one.\n",
    "3. None of the categorical features is evenly distributed. In each group some disproportions occur and some categories are much more common than the others.\n",
    "4. Missing values are present in `ca` (4) and `thal` (2) features. We can utilize _mode imputation_ (_most frequent_ imputation) to replace them (since they are categorical)."
   ]
  },
  {
   "cell_type": "markdown",
   "metadata": {},
   "source": [
    "## 3. Feature matrix converter code"
   ]
  },
  {
   "cell_type": "code",
   "execution_count": null,
   "metadata": {},
   "outputs": [],
   "source": [
    "import pandas as pd\n",
    "from sklearn.impute import SimpleImputer\n",
    "from sklearn.preprocessing import MinMaxScaler, OneHotEncoder\n",
    "\n",
    "cat_features = [\"sex\", \"cp\", \"fbs\", \"restecg\", \"exang\", \"slope\", \"ca\", \"thal\"]\n",
    "num_features = [\"age\", \"trestbps\", \"chol\", \"thalach\", \"oldpeak\"]\n",
    "\n",
    "original_df = heart_disease.data.features\n",
    "\n",
    "# Prepare categorical data\n",
    "imputer = SimpleImputer(strategy=\"most_frequent\")\n",
    "original_df[cat_features] = imputer.fit_transform(original_df[cat_features])\n",
    "\n",
    "encoder = OneHotEncoder(categories=\"auto\", sparse_output=False)\n",
    "encoded_cat_data = encoder.fit_transform(original_df[cat_features])\n",
    "encoded_features = encoder.get_feature_names_out(cat_features)\n",
    "original_df[encoded_features] = pd.DataFrame(encoded_cat_data, columns=encoded_features)\n",
    "\n",
    "# Prepare numerical data\n",
    "scaler = MinMaxScaler()\n",
    "scaled_num_data = scaler.fit_transform(original_df[num_features])\n",
    "original_df[num_features] = pd.DataFrame(scaled_num_data, columns=num_features)\n",
    "\n",
    "# Convert DataFrame to feature matrix\n",
    "original_df = original_df.drop(columns=cat_features)\n",
    "feature_matrix = original_df.to_numpy()\n"
   ]
  }
 ],
 "metadata": {
  "kernelspec": {
   "display_name": ".venv",
   "language": "python",
   "name": "python3"
  },
  "language_info": {
   "codemirror_mode": {
    "name": "ipython",
    "version": 3
   },
   "file_extension": ".py",
   "mimetype": "text/x-python",
   "name": "python",
   "nbconvert_exporter": "python",
   "pygments_lexer": "ipython3",
   "version": "3.12.3"
  }
 },
 "nbformat": 4,
 "nbformat_minor": 2
}
