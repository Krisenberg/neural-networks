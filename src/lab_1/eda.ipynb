{
 "cells": [
  {
   "cell_type": "markdown",
   "metadata": {},
   "source": [
    "## 1. Dataset import"
   ]
  },
  {
   "cell_type": "markdown",
   "metadata": {},
   "source": [
    "### Fetch heart disease dataset"
   ]
  },
  {
   "cell_type": "code",
   "execution_count": 1,
   "metadata": {},
   "outputs": [],
   "source": [
    "from ucimlrepo import fetch_ucirepo\n",
    "\n",
    "heart_disease = fetch_ucirepo(id=45)"
   ]
  },
  {
   "cell_type": "markdown",
   "metadata": {},
   "source": [
    "### Dataset metadata"
   ]
  },
  {
   "cell_type": "code",
   "execution_count": 2,
   "metadata": {},
   "outputs": [
    {
     "name": "stdout",
     "output_type": "stream",
     "text": [
      "=====================Metadata=====================\n",
      "uci_id:\t45\n",
      "name:\tHeart Disease\n",
      "repository_url:\thttps://archive.ics.uci.edu/dataset/45/heart+disease\n",
      "data_url:\thttps://archive.ics.uci.edu/static/public/45/data.csv\n",
      "abstract:\t4 databases: Cleveland, Hungary, Switzerland, and the VA Long Beach\n",
      "area:\tHealth and Medicine\n",
      "tasks:\t['Classification']\n",
      "characteristics:\t['Multivariate']\n",
      "num_instances:\t303\n",
      "num_features:\t13\n",
      "feature_types:\t['Categorical', 'Integer', 'Real']\n",
      "demographics:\t['Age', 'Sex']\n",
      "target_col:\t['num']\n",
      "index_col:\tNone\n",
      "has_missing_values:\tyes\n",
      "missing_values_symbol:\tNaN\n",
      "year_of_dataset_creation:\t1989\n",
      "last_updated:\tFri Nov 03 2023\n",
      "dataset_doi:\t10.24432/C52P4X\n",
      "creators:\t['Andras Janosi', 'William Steinbrunn', 'Matthias Pfisterer', 'Robert Detrano']\n",
      "intro_paper:\t{'ID': 231, 'type': 'NATIVE', 'title': 'International application of a new probability algorithm for the diagnosis of coronary artery disease.', 'authors': 'R. Detrano, A. Jánosi, W. Steinbrunn, M. Pfisterer, J. Schmid, S. Sandhu, K. Guppy, S. Lee, V. Froelicher', 'venue': 'American Journal of Cardiology', 'year': 1989, 'journal': None, 'DOI': None, 'URL': 'https://www.semanticscholar.org/paper/a7d714f8f87bfc41351eb5ae1e5472f0ebbe0574', 'sha': None, 'corpus': None, 'arxiv': None, 'mag': None, 'acl': None, 'pmid': '2756873', 'pmcid': None}\n",
      "additional_info:\t{'summary': 'This database contains 76 attributes, but all published experiments refer to using a subset of 14 of them.  In particular, the Cleveland database is the only one that has been used by ML researchers to date.  The \"goal\" field refers to the presence of heart disease in the patient.  It is integer valued from 0 (no presence) to 4. Experiments with the Cleveland database have concentrated on simply attempting to distinguish presence (values 1,2,3,4) from absence (value 0).  \\n   \\nThe names and social security numbers of the patients were recently removed from the database, replaced with dummy values.\\n\\nOne file has been \"processed\", that one containing the Cleveland database.  All four unprocessed files also exist in this directory.\\n\\nTo see Test Costs (donated by Peter Turney), please see the folder \"Costs\" ', 'purpose': None, 'funded_by': None, 'instances_represent': None, 'recommended_data_splits': None, 'sensitive_data': None, 'preprocessing_description': None, 'variable_info': 'Only 14 attributes used:\\r\\n      1. #3  (age)       \\r\\n      2. #4  (sex)       \\r\\n      3. #9  (cp)        \\r\\n      4. #10 (trestbps)  \\r\\n      5. #12 (chol)      \\r\\n      6. #16 (fbs)       \\r\\n      7. #19 (restecg)   \\r\\n      8. #32 (thalach)   \\r\\n      9. #38 (exang)     \\r\\n      10. #40 (oldpeak)   \\r\\n      11. #41 (slope)     \\r\\n      12. #44 (ca)        \\r\\n      13. #51 (thal)      \\r\\n      14. #58 (num)       (the predicted attribute)\\r\\n\\r\\nComplete attribute documentation:\\r\\n      1 id: patient identification number\\r\\n      2 ccf: social security number (I replaced this with a dummy value of 0)\\r\\n      3 age: age in years\\r\\n      4 sex: sex (1 = male; 0 = female)\\r\\n      5 painloc: chest pain location (1 = substernal; 0 = otherwise)\\r\\n      6 painexer (1 = provoked by exertion; 0 = otherwise)\\r\\n      7 relrest (1 = relieved after rest; 0 = otherwise)\\r\\n      8 pncaden (sum of 5, 6, and 7)\\r\\n      9 cp: chest pain type\\r\\n        -- Value 1: typical angina\\r\\n        -- Value 2: atypical angina\\r\\n        -- Value 3: non-anginal pain\\r\\n        -- Value 4: asymptomatic\\r\\n     10 trestbps: resting blood pressure (in mm Hg on admission to the hospital)\\r\\n     11 htn\\r\\n     12 chol: serum cholestoral in mg/dl\\r\\n     13 smoke: I believe this is 1 = yes; 0 = no (is or is not a smoker)\\r\\n     14 cigs (cigarettes per day)\\r\\n     15 years (number of years as a smoker)\\r\\n     16 fbs: (fasting blood sugar > 120 mg/dl)  (1 = true; 0 = false)\\r\\n     17 dm (1 = history of diabetes; 0 = no such history)\\r\\n     18 famhist: family history of coronary artery disease (1 = yes; 0 = no)\\r\\n     19 restecg: resting electrocardiographic results\\r\\n        -- Value 0: normal\\r\\n        -- Value 1: having ST-T wave abnormality (T wave inversions and/or ST elevation or depression of > 0.05 mV)\\r\\n        -- Value 2: showing probable or definite left ventricular hypertrophy by Estes\\' criteria\\r\\n     20 ekgmo (month of exercise ECG reading)\\r\\n     21 ekgday(day of exercise ECG reading)\\r\\n     22 ekgyr (year of exercise ECG reading)\\r\\n     23 dig (digitalis used furing exercise ECG: 1 = yes; 0 = no)\\r\\n     24 prop (Beta blocker used during exercise ECG: 1 = yes; 0 = no)\\r\\n     25 nitr (nitrates used during exercise ECG: 1 = yes; 0 = no)\\r\\n     26 pro (calcium channel blocker used during exercise ECG: 1 = yes; 0 = no)\\r\\n     27 diuretic (diuretic used used during exercise ECG: 1 = yes; 0 = no)\\r\\n     28 proto: exercise protocol\\r\\n          1 = Bruce     \\r\\n          2 = Kottus\\r\\n          3 = McHenry\\r\\n          4 = fast Balke\\r\\n          5 = Balke\\r\\n          6 = Noughton \\r\\n          7 = bike 150 kpa min/min  (Not sure if \"kpa min/min\" is what was written!)\\r\\n          8 = bike 125 kpa min/min  \\r\\n          9 = bike 100 kpa min/min\\r\\n         10 = bike 75 kpa min/min\\r\\n         11 = bike 50 kpa min/min\\r\\n         12 = arm ergometer\\r\\n     29 thaldur: duration of exercise test in minutes\\r\\n     30 thaltime: time when ST measure depression was noted\\r\\n     31 met: mets achieved\\r\\n     32 thalach: maximum heart rate achieved\\r\\n     33 thalrest: resting heart rate\\r\\n     34 tpeakbps: peak exercise blood pressure (first of 2 parts)\\r\\n     35 tpeakbpd: peak exercise blood pressure (second of 2 parts)\\r\\n     36 dummy\\r\\n     37 trestbpd: resting blood pressure\\r\\n     38 exang: exercise induced angina (1 = yes; 0 = no)\\r\\n     39 xhypo: (1 = yes; 0 = no)\\r\\n     40 oldpeak = ST depression induced by exercise relative to rest\\r\\n     41 slope: the slope of the peak exercise ST segment\\r\\n        -- Value 1: upsloping\\r\\n        -- Value 2: flat\\r\\n        -- Value 3: downsloping\\r\\n     42 rldv5: height at rest\\r\\n     43 rldv5e: height at peak exercise\\r\\n     44 ca: number of major vessels (0-3) colored by flourosopy\\r\\n     45 restckm: irrelevant\\r\\n     46 exerckm: irrelevant\\r\\n     47 restef: rest raidonuclid (sp?) ejection fraction\\r\\n     48 restwm: rest wall (sp?) motion abnormality\\r\\n        0 = none\\r\\n        1 = mild or moderate\\r\\n        2 = moderate or severe\\r\\n        3 = akinesis or dyskmem (sp?)\\r\\n     49 exeref: exercise radinalid (sp?) ejection fraction\\r\\n     50 exerwm: exercise wall (sp?) motion \\r\\n     51 thal: 3 = normal; 6 = fixed defect; 7 = reversable defect\\r\\n     52 thalsev: not used\\r\\n     53 thalpul: not used\\r\\n     54 earlobe: not used\\r\\n     55 cmo: month of cardiac cath (sp?)  (perhaps \"call\")\\r\\n     56 cday: day of cardiac cath (sp?)\\r\\n     57 cyr: year of cardiac cath (sp?)\\r\\n     58 num: diagnosis of heart disease (angiographic disease status)\\r\\n        -- Value 0: < 50% diameter narrowing\\r\\n        -- Value 1: > 50% diameter narrowing\\r\\n        (in any major vessel: attributes 59 through 68 are vessels)\\r\\n     59 lmt\\r\\n     60 ladprox\\r\\n     61 laddist\\r\\n     62 diag\\r\\n     63 cxmain\\r\\n     64 ramus\\r\\n     65 om1\\r\\n     66 om2\\r\\n     67 rcaprox\\r\\n     68 rcadist\\r\\n     69 lvx1: not used\\r\\n     70 lvx2: not used\\r\\n     71 lvx3: not used\\r\\n     72 lvx4: not used\\r\\n     73 lvf: not used\\r\\n     74 cathef: not used\\r\\n     75 junk: not used\\r\\n     76 name: last name of patient  (I replaced this with the dummy string \"name\")', 'citation': None}\n"
     ]
    }
   ],
   "source": [
    "print(\"{:=^50}\".format(\"Metadata\"))\n",
    "for k, v in heart_disease.metadata.items():\n",
    "    print(f\"{k}:\\t{v}\")"
   ]
  },
  {
   "cell_type": "markdown",
   "metadata": {},
   "source": [
    "### Variables info"
   ]
  },
  {
   "cell_type": "code",
   "execution_count": 3,
   "metadata": {},
   "outputs": [
    {
     "name": "stdout",
     "output_type": "stream",
     "text": [
      "\n",
      "====================Variables=====================\n",
      "        name     role         type  units missing_values\n",
      "0        age  Feature      Integer  years             no\n",
      "1        sex  Feature  Categorical   None             no\n",
      "2         cp  Feature  Categorical   None             no\n",
      "3   trestbps  Feature      Integer  mm Hg             no\n",
      "4       chol  Feature      Integer  mg/dl             no\n",
      "5        fbs  Feature  Categorical   None             no\n",
      "6    restecg  Feature  Categorical   None             no\n",
      "7    thalach  Feature      Integer   None             no\n",
      "8      exang  Feature  Categorical   None             no\n",
      "9    oldpeak  Feature      Integer   None             no\n",
      "10     slope  Feature  Categorical   None             no\n",
      "11        ca  Feature      Integer   None            yes\n",
      "12      thal  Feature  Categorical   None            yes\n",
      "13       num   Target      Integer   None             no\n"
     ]
    }
   ],
   "source": [
    "print(\"\\n{:=^50}\".format(\"Variables\"))\n",
    "important_cols = [\"name\", \"role\", \"type\", \"units\", \"missing_values\"]\n",
    "print(heart_disease.variables[important_cols])"
   ]
  },
  {
   "cell_type": "markdown",
   "metadata": {},
   "source": [
    "## 2. Data profiling"
   ]
  },
  {
   "cell_type": "markdown",
   "metadata": {},
   "source": [
    "### Profile generation"
   ]
  },
  {
   "cell_type": "code",
   "execution_count": 76,
   "metadata": {},
   "outputs": [
    {
     "name": "stderr",
     "output_type": "stream",
     "text": [
      "c:\\Users\\Kris\\Documents\\Studia\\Semestr_VII\\sieci_neuronowe\\laboratorium\\.venv\\Lib\\site-packages\\tqdm\\auto.py:21: TqdmWarning: IProgress not found. Please update jupyter and ipywidgets. See https://ipywidgets.readthedocs.io/en/stable/user_install.html\n",
      "  from .autonotebook import tqdm as notebook_tqdm\n",
      "Summarize dataset: 100%|██████████| 49/49 [00:03<00:00, 15.47it/s, Completed]                 \n",
      "Generate report structure: 100%|██████████| 1/1 [00:03<00:00,  3.36s/it]\n",
      "Render HTML: 100%|██████████| 1/1 [00:00<00:00,  1.26it/s]\n",
      "Export report to file: 100%|██████████| 1/1 [00:00<00:00, 237.70it/s]\n"
     ]
    }
   ],
   "source": [
    "from pathlib import Path\n",
    "\n",
    "from ydata_profiling import ProfileReport\n",
    "\n",
    "data_df = heart_disease.data.original\n",
    "dataset_profile = ProfileReport(data_df, title = \"Heart disease report\")\n",
    "\n",
    "report_path = Path.cwd()/\"dataset_report.html\"\n",
    "dataset_profile.to_file(report_path, silent=True)"
   ]
  },
  {
   "cell_type": "markdown",
   "metadata": {},
   "source": [
    "### Profile overview"
   ]
  },
  {
   "cell_type": "markdown",
   "metadata": {},
   "source": [
    "##### Features"
   ]
  },
  {
   "cell_type": "markdown",
   "metadata": {},
   "source": [
    "- `age` [_numerical_]:\n",
    "    - min. 29, max. 77, mean 54.44, median 56, std. dev. 9\n",
    "    - patients aged mainly 40 (5-th percentile) - 68 (95-th percentile)\n",
    "- `sex` [_categorical_]:\n",
    "    - $values \\in \\{0, 1\\}$\n",
    "    - not evenly distributed (206 male, 97 female)\n",
    "- `cp` (chest pain type) [_categorical_]:\n",
    "    - $values \\in \\{1, 2, 3, 4\\}$ = {typical angina, atypical angina, non-anginal pain, asymptomatic}\n",
    "    - not evenly distributed - (respectively: 23, 50, 86, 144)\n",
    "- `trestbps` (resting blood pressure) [_integer_]:\n",
    "    - min. 94, max. 200, mean 131.69, median 130, std. dev. 17.6\n",
    "- `chol` (serum cholestoral) [_integer_]:\n",
    "    - min. 126, max. 564, mean 246.69, std. dev. 51.8\n",
    "- `fbs` (fasting blood sugar > 120 mg/dl) [_categorical_]:\n",
    "    - $values \\in \\{0, 1\\}$ (1 = true; 0 = false)\n",
    "    - not evenly distributed (258 false, 45 true)\n",
    "- `restecg` (resting electrocardiographic results) [_categorical_]:\n",
    "    - $values \\in \\{0, 1, 2\\}$, where:\n",
    "        - 0: normal\n",
    "        - 1: having ST-T wave abnormality (T wave inversions and/or ST elevation or depression of > 0.05 mV)\n",
    "        - 2: showing probable or definite left ventricular hypertrophy by Estes' criteria\n",
    "    - not evenly distributed (0 - 151, 1 - 4, 2 - 148)\n",
    "- `thalach` (maximum heart rate achieved) [_integer_]:\n",
    "    - min. 71, max. 202, mean 149.6, std. dev. 22.9\n",
    "- `exang` (exercise induced angina) [_categorical_]:\n",
    "    - $values \\in \\{0, 1\\}$ (1 = yes; 0 = no)\n",
    "    - not evenly distributed (204 patitents without this disease, only 99 with)\n",
    "- `oldpeak` (ST depression induced by exercise relative to rest) [_integer_]:\n",
    "    - min. 0, max. 6.2, mean 1.04, median 0.8, std. dev. 1.16\n",
    "    - definitely not a normal distribution (not even close)\n",
    "- `slope` (the slope of the peak exercise ST segment) [_categorical_]:\n",
    "    - $values \\in \\{1, 2, 3\\}$ (1 = upsloping; 2 = flat; 3 = downsloping)\n",
    "    - not evenly distributed (1 - 142, 2 - 140, 3 - 21)\n",
    "- `ca` (number of major vessels (0-3) colored by flourosopy) [_categorical_]:\n",
    "    - $values \\in \\{0, 1, 2, 3\\}$\n",
    "    - not evenly distributed (0 - 176, 1 - 65, 2 - 38, 3 - 20)\n",
    "    - 4 values missing\n",
    "- `thal` [_categorical_]:\n",
    "    - $values \\in \\{3, 6, 7\\}$ (3 = normal; 6 = fixed defect; 7 = reversable defect)\n",
    "    - not evenly distributed (3 - 166, 6 - 18, 7 - 117)"
   ]
  },
  {
   "cell_type": "markdown",
   "metadata": {},
   "source": [
    "##### Correlation matrix"
   ]
  },
  {
   "cell_type": "markdown",
   "metadata": {},
   "source": [
    "\n",
    "- Noticeable negative correlation between `age` and `thalach` (maximum heart rate achieved), also between `oldpeak` (ST depression induced by exercise relative to rest) and `thalach`.\n",
    "- Positive correlation between `cp` and `exang` (categorical features).  \n",
    "<img src=\"./assets/correlation_matrix.png\" alt=\"Correlation Matrix\" width=\"500\"/>"
   ]
  },
  {
   "cell_type": "markdown",
   "metadata": {},
   "source": [
    "### Numerical features distributions"
   ]
  },
  {
   "cell_type": "markdown",
   "metadata": {},
   "source": [
    "##### Code"
   ]
  },
  {
   "cell_type": "code",
   "execution_count": 41,
   "metadata": {},
   "outputs": [],
   "source": [
    "import matplotlib.pyplot as plt\n",
    "import pandas as pd\n",
    "from scipy import stats\n",
    "\n",
    "\n",
    "def plot_distributions(data_df: pd.DataFrame, features: list[str], filename: str, n_cols: int=2):\n",
    "    n_features = len(features)\n",
    "    n_rows = (n_features + n_cols - 1) // n_cols\n",
    "\n",
    "    fig, axes = plt.subplots(n_rows, n_cols, figsize=(4*n_cols, 3*n_rows))\n",
    "    fig.suptitle(\"Distribution of Features vs Normal Distribution\", fontsize=16)\n",
    "\n",
    "    for i, feature in enumerate(features):\n",
    "        row = i // n_cols\n",
    "        col = i % n_cols\n",
    "        ax = axes[row, col] if n_rows > 1 else axes[col]\n",
    "        data = sorted(data_df[feature])\n",
    "\n",
    "        # Fit normal distribution\n",
    "        mean, std = stats.norm.fit(data)\n",
    "        pdf_norm = stats.norm.pdf(data, mean, std)\n",
    "\n",
    "        # Plot histogram and fitted normal distribution\n",
    "        ax.hist(data, bins=\"auto\", density=True, alpha=0.7)\n",
    "        ax.plot(data, pdf_norm, \"red\", label=\"Normal\")\n",
    "\n",
    "        ax.set_title(feature)\n",
    "        ax.set_xlabel(\"Values\")\n",
    "        ax.set_ylabel(\"Density\")\n",
    "        ax.legend()\n",
    "\n",
    "    # Remove unused plots\n",
    "    for i in range(n_features, n_rows * n_cols):\n",
    "        row = i // n_cols\n",
    "        col = i % n_cols\n",
    "        fig.delaxes(axes[row, col] if n_rows > 1 else axes[col])\n",
    "\n",
    "    plt.tight_layout()\n",
    "    plt.subplots_adjust(top=0.9)\n",
    "    plt.savefig(filename)\n",
    "    plt.close()"
   ]
  },
  {
   "cell_type": "code",
   "execution_count": 68,
   "metadata": {},
   "outputs": [],
   "source": [
    "from pathlib import Path\n",
    "\n",
    "from sklearn.preprocessing import MinMaxScaler\n",
    "\n",
    "num_features = [\"age\", \"trestbps\", \"chol\", \"thalach\", \"oldpeak\"]\n",
    "\n",
    "original_df = heart_disease.data.features\n",
    "\n",
    "scaler = MinMaxScaler()\n",
    "scaled_num_data = scaler.fit_transform(original_df[num_features])\n",
    "scaled_num_df = pd.DataFrame(scaled_num_data, columns=num_features)\n",
    "\n",
    "plot_distributions(original_df, num_features, filename=Path.cwd()/\"assets\"/\"original_dist.png\")\n",
    "plot_distributions(scaled_num_df, num_features, filename=Path.cwd()/\"assets\"/\"scaled_dist.png\")"
   ]
  },
  {
   "cell_type": "markdown",
   "metadata": {},
   "source": [
    "##### Comparison\n",
    "\n",
    "We can make the following observations based on the charts provided below (original data - left, scaled data by `MinMaxScaler` - right):\n",
    "- `age`: roughly normal distribution, with a slight left skew.\n",
    "- `trestbps`: somewhat normal distribution but with multiple peaks.\n",
    "- `chol`: a little bit right-skewed but not very much different from a normal dist. bell curve.\n",
    "- `thalach`: left-skewed and somewhat bimodal. Deviates quite much from a normal distribution.\n",
    "- `oldpeak`: highly skewed distribution with a large peak at 0 and a long right tail. Very far from a normal distribution.  \n",
    "\n",
    "Based on those observations I decided to choose `MinMaxScaler` for the further data processing. Neural network requires numerical data to be scaled to some fixed range while also keeping the original data distribution. This type of scaler fits perfectly to this use case.\n",
    "\n",
    "\n",
    "<p align=\"center\">\n",
    "    <img src=\"./assets/original_dist.png\" alt=\"Original features distribution\" width=\"500\"/>\n",
    "    <img src=\"./assets/scaled_dist.png\" alt=\"Scaled features distribution\" width=\"500\"/>\n",
    "</p>"
   ]
  },
  {
   "cell_type": "markdown",
   "metadata": {},
   "source": [
    "### Summary"
   ]
  },
  {
   "cell_type": "markdown",
   "metadata": {},
   "source": [
    "1. Dataset is not well-balanced. It is noticeable especially in the following features: `sex`, `fbs`, `exang`.\n",
    "2. Distributions of some numerical features can be considered as close to normal (`trestbps`, `chol`, `age`) but the distribution of `oldpeak` is defenitely not a normal one.\n",
    "3. None of the categorical features is evenly distributed. In each group some disproportions occur and some categories are much more common than the others.\n",
    "4. Missing values are present in `ca` (4) and `thal` (2) features. We can utilize _mode imputation_ (_most frequent_ imputation) to replace them (since they are categorical)."
   ]
  },
  {
   "cell_type": "markdown",
   "metadata": {},
   "source": [
    "## 3. Feature matrix converter code"
   ]
  },
  {
   "cell_type": "code",
   "execution_count": 75,
   "metadata": {},
   "outputs": [],
   "source": [
    "import pandas as pd\n",
    "from sklearn.impute import SimpleImputer\n",
    "from sklearn.preprocessing import OneHotEncoder\n",
    "\n",
    "cat_features = [\"sex\", \"cp\", \"fbs\", \"restecg\", \"exang\", \"slope\", \"ca\", \"thal\"]\n",
    "num_features = [\"age\", \"trestbps\", \"chol\", \"thalach\", \"oldpeak\"]\n",
    "\n",
    "original_df = heart_disease.data.features\n",
    "\n",
    "# Prepare categorical data\n",
    "imputer = SimpleImputer(strategy=\"most_frequent\")\n",
    "original_df[cat_features] = imputer.fit_transform(original_df[cat_features])\n",
    "\n",
    "encoder = OneHotEncoder(categories=\"auto\", sparse_output=False)\n",
    "encoded_cat_data = encoder.fit_transform(original_df[cat_features])\n",
    "encoded_features = encoder.get_feature_names_out(cat_features)\n",
    "original_df[encoded_features] = pd.DataFrame(encoded_cat_data, columns=encoded_features)\n",
    "\n",
    "# Prepare numerical data\n",
    "scaler = MinMaxScaler()\n",
    "scaled_num_data = scaler.fit_transform(original_df[num_features])\n",
    "original_df[num_features] = pd.DataFrame(scaled_num_data, columns=num_features)\n",
    "\n",
    "# Convert DataFrame to feature matrix\n",
    "original_df = original_df.drop(columns=cat_features)\n",
    "feature_matrix = original_df.to_numpy()\n"
   ]
  }
 ],
 "metadata": {
  "kernelspec": {
   "display_name": ".venv",
   "language": "python",
   "name": "python3"
  },
  "language_info": {
   "codemirror_mode": {
    "name": "ipython",
    "version": 3
   },
   "file_extension": ".py",
   "mimetype": "text/x-python",
   "name": "python",
   "nbconvert_exporter": "python",
   "pygments_lexer": "ipython3",
   "version": "3.12.3"
  }
 },
 "nbformat": 4,
 "nbformat_minor": 2
}
